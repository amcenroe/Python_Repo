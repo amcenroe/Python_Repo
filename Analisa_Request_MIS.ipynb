{
 "cells": [
  {
   "cell_type": "code",
   "execution_count": 19,
   "id": "8e34167e-5481-4eee-b28c-0b1fcdd8756f",
   "metadata": {},
   "outputs": [],
   "source": [
    "import pyodbc\n",
    "import re\n",
    "import pandas as pd"
   ]
  },
  {
   "cell_type": "code",
   "execution_count": 20,
   "id": "4c1be932-2976-414e-9ee2-4ef340a2bb6f",
   "metadata": {},
   "outputs": [],
   "source": [
    "# Buat koneksi ke MS Access Database\n",
    "conn = pyodbc.connect(r'Driver={Microsoft Access Driver (*.mdb, *.accdb)};DBQ=C:\\Users\\andikamcenroe\\Documents\\Knowledge\\Analisa_Request\\Database1.accdb;')\n",
    "# Query Datanya dan tampung ke Dataframe\n",
    "Inbox = pd.read_sql('SELECT * FROM Inbox', conn)\n",
    "# Close connection\n",
    "conn.close()\n"
   ]
  },
  {
   "cell_type": "code",
   "execution_count": 21,
   "id": "79fb6e42-ce7c-449a-854a-e6d4bbfc844c",
   "metadata": {},
   "outputs": [
    {
     "data": {
      "text/plain": [
       "count                             8813\n",
       "mean     2021-01-30 11:16:00.144445696\n",
       "min                2020-10-23 01:04:34\n",
       "25%                2020-12-15 13:38:51\n",
       "50%                2021-02-02 10:52:49\n",
       "75%                2021-03-16 09:44:16\n",
       "max                2021-04-23 16:47:12\n",
       "Name: Created, dtype: object"
      ]
     },
     "execution_count": 21,
     "metadata": {},
     "output_type": "execute_result"
    }
   ],
   "source": [
    "# Checkpoint Max / Min Date in dataframe\n",
    "Inbox['Created'].describe(datetime_is_numeric=True)"
   ]
  },
  {
   "cell_type": "code",
   "execution_count": 22,
   "id": "aaf7102c-e733-49a8-b5e7-5b351724b92a",
   "metadata": {},
   "outputs": [],
   "source": [
    "# Filter dates & PIC\n",
    "Inbox_Filt = Inbox[Inbox['Created'] >= '2021-04-01 00:00:00']\n",
    "Inbox_Filt = Inbox_Filt[Inbox_Filt['From'].isin([\"Mohamad SEPTIAN FAUZI (400074)\",\n",
    "                                      \"Ria Astriana SURDIN\",\n",
    "                                      \"Henri Bin Husni\",\n",
    "                                      \"Saiful Anwar\",\n",
    "                                      \"Andika Mcenroe\"])]"
   ]
  },
  {
   "cell_type": "code",
   "execution_count": 23,
   "id": "9e322c34-6cff-4cab-99f2-3fca1df67138",
   "metadata": {},
   "outputs": [],
   "source": [
    "# Fix Text Format (Remove line Feed, tab etc..)\n",
    "Inbox_Filt['Contents'] = Inbox_Filt['Contents'].str.replace('[\\r\\n\\t]','',regex=True)"
   ]
  },
  {
   "cell_type": "code",
   "execution_count": 24,
   "id": "88e7d500-a963-4e5e-9960-51957be2676f",
   "metadata": {},
   "outputs": [],
   "source": [
    "# Tipe email adalah Email Balasan, cirinya ada Prefix RE: dan mengandung Attachment\n",
    "Inbox_Filt = Inbox_Filt[(Inbox_Filt['Subject Prefix'] == \"RE: \") & (Inbox_Filt['Has Attachments'] == True)] "
   ]
  },
  {
   "cell_type": "code",
   "execution_count": 25,
   "id": "e76edbe3-7dda-4e98-8ad0-1c2697ecb34c",
   "metadata": {},
   "outputs": [],
   "source": [
    "# Retrieve Last Contains Emails (Last replied Word by requester)\n",
    "Inbox_Filt['Last_Contents'] = Inbox_Filt['Contents'].str.extract('(.+?(?=From: ))')"
   ]
  },
  {
   "cell_type": "code",
   "execution_count": 26,
   "id": "7dc79588-afa0-4208-9be1-03d61fa78aad",
   "metadata": {},
   "outputs": [],
   "source": [
    "# Cek Kata2 Please Find dari Body Email terakhir\n",
    "Inbox_Filt = Inbox_Filt[(Inbox_Filt['Last_Contents'].str.contains('please find',flags=re.IGNORECASE)) | \n",
    "                       (Inbox_Filt['Last_Contents'].str.contains('pleas find',flags=re.IGNORECASE))] "
   ]
  },
  {
   "cell_type": "code",
   "execution_count": 27,
   "id": "17db65c1-030c-40ba-805c-f74278ccb2a6",
   "metadata": {},
   "outputs": [],
   "source": [
    "# Ambil Bagian From pada keselururan Body Email untuk Mencari kepada siapa Tim MIS Reply Email\n",
    "Inbox_Filt['Reply_From'] = Inbox_Filt['Contents'].str.extract('(?<=From: )(.*?)(?= Sent:)')"
   ]
  },
  {
   "cell_type": "code",
   "execution_count": 28,
   "id": "4479f75e-5d7f-4c18-a9ea-e467c95d1c33",
   "metadata": {},
   "outputs": [],
   "source": [
    "# Hilangkan <1bankid@dbs.com> JIKA ADA\n",
    "Inbox_Filt['Reply_From'] = Inbox_Filt['Reply_From'].str.replace(' <(.*?)>','',regex=True)"
   ]
  },
  {
   "cell_type": "code",
   "execution_count": 29,
   "id": "aac0e2d1-74c4-4f2b-8c94-abc8c861b71c",
   "metadata": {},
   "outputs": [],
   "source": [
    "# Mencari kapan Email ini dikirim sama requested\n",
    "Inbox_Filt['DTTime_Req'] = Inbox_Filt['Contents'].str.extract('(?<=Sent: )(.*?)(?=To:)')"
   ]
  },
  {
   "cell_type": "code",
   "execution_count": 30,
   "id": "b04f8e39-29c1-425a-94ce-14b979c0e48a",
   "metadata": {},
   "outputs": [],
   "source": [
    "# Mencari kapan Email ini dikirim sama requested\n",
    "Inbox_Filt['Tanggal'] = pd.to_datetime(Inbox_Filt['DTTime_Req'],format='%A, %B %d, %Y %I:%M %p')"
   ]
  },
  {
   "cell_type": "code",
   "execution_count": 31,
   "id": "868cbd22-fe2b-4d4f-877d-8907a5145c3e",
   "metadata": {},
   "outputs": [],
   "source": [
    "# Filter yang Bukan Request yang Reply dari PIC sendiri\n",
    "Inbox_Filt = Inbox_Filt[Inbox_Filt['From'] != Inbox_Filt['Reply_From']]"
   ]
  },
  {
   "cell_type": "code",
   "execution_count": 32,
   "id": "0835e502-851b-4555-954e-0b2f73d9301d",
   "metadata": {},
   "outputs": [],
   "source": [
    "# Tulis ke Excel\n",
    "Inbox_Filt.to_excel(r'C:\\Users\\andikamcenroe\\Documents\\Knowledge\\Analisa_Request\\Handle_Adhock_Baru_py.xlsx',index=False) "
   ]
  },
  {
   "cell_type": "markdown",
   "id": "3e1995b9-3a1d-4066-a8e3-09d9dee9b76b",
   "metadata": {},
   "source": [
    "## End Of Program"
   ]
  },
  {
   "cell_type": "code",
   "execution_count": null,
   "id": "112022b8-88e1-4e33-8717-721d8c82d241",
   "metadata": {},
   "outputs": [],
   "source": [
    "Inbox_Filt.iloc[:,0:18].to_excel(r'C:\\Users\\andikamcenroe\\Documents\\Knowledge\\Analisa_Request\\Handle_Adhock_Baru_py_I.xlsx',index=False) "
   ]
  },
  {
   "cell_type": "code",
   "execution_count": 73,
   "id": "771a1222-be12-4b79-a742-ea53fcf7806d",
   "metadata": {},
   "outputs": [
    {
     "data": {
      "text/plain": [
       "Index(['ID', 'Importance', 'Icon', 'Priority', 'Subject', 'From',\n",
       "       'Message To Me', 'Message CC to Me', 'Sender Name', 'CC', 'To',\n",
       "       'Received', 'Message Size', 'Contents', 'Created', 'Modified',\n",
       "       'Subject Prefix', 'Has Attachments', 'Normalized Subject',\n",
       "       'Object Type', 'Content Unread', 'Last_Contents'],\n",
       "      dtype='object')"
      ]
     },
     "execution_count": 73,
     "metadata": {},
     "output_type": "execute_result"
    }
   ],
   "source": [
    "Inbox_Filt.columns"
   ]
  }
 ],
 "metadata": {
  "kernelspec": {
   "display_name": "Python 3",
   "language": "python",
   "name": "python3"
  },
  "language_info": {
   "codemirror_mode": {
    "name": "ipython",
    "version": 3
   },
   "file_extension": ".py",
   "mimetype": "text/x-python",
   "name": "python",
   "nbconvert_exporter": "python",
   "pygments_lexer": "ipython3",
   "version": "3.7.4"
  }
 },
 "nbformat": 4,
 "nbformat_minor": 5
}
